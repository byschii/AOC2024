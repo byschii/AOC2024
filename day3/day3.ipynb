{
 "cells": [
  {
   "cell_type": "code",
   "execution_count": 18,
   "metadata": {},
   "outputs": [],
   "source": [
    "def read_data(use_input = False):\n",
    "    data = \"\"\n",
    "    fname = \"day3.input\" if use_input else \"day3.example\"\n",
    "    with open(fname, \"r\") as f:\n",
    "        data = f.read()\n",
    "\n",
    "    return data\n",
    "\n",
    "def calc_mul_expr(expr: str):\n",
    "    data = expr.replace(\"mul(\", \"\").replace(\")\", \"\").split(\",\")\n",
    "    return int(data[0]) * int(data[1]) \n"
   ]
  },
  {
   "cell_type": "code",
   "execution_count": 19,
   "metadata": {},
   "outputs": [
    {
     "data": {
      "text/plain": [
       "167090022"
      ]
     },
     "execution_count": 19,
     "metadata": {},
     "output_type": "execute_result"
    }
   ],
   "source": [
    "import re\n",
    "\n",
    "mem = read_data(True)\n",
    "expression = r\"mul\\(\\d{1,3},\\d{1,3}\\)\"\n",
    "\n",
    "sum(\n",
    "    map(\n",
    "        lambda x : calc_mul_expr(x),\n",
    "        re.findall(expression, mem)\n",
    "    )\n",
    ")\n",
    "\n",
    "\n"
   ]
  },
  {
   "cell_type": "code",
   "execution_count": 21,
   "metadata": {},
   "outputs": [
    {
     "name": "stdout",
     "output_type": "stream",
     "text": [
      "89823704\n"
     ]
    }
   ],
   "source": [
    "mem = read_data(True).split(\"\\n\")\n",
    "expression = r\"mul\\(\\d{1,3},\\d{1,3}\\)|do\\(\\)|don't\\(\\)\"\n",
    "\n",
    "tot_val = 0\n",
    "got_dont = False\n",
    "for line in mem:\n",
    "    for data in re.findall(expression, line):\n",
    "        if data == \"don't()\": \n",
    "            got_dont=True\n",
    "            continue\n",
    "        if data == \"do()\": \n",
    "            got_dont=False\n",
    "            continue\n",
    "\n",
    "        if not got_dont:\n",
    "            tot_val += calc_mul_expr(data)\n",
    "\n",
    "print(f\"{tot_val}\")\n",
    "\n",
    "\n"
   ]
  }
 ],
 "metadata": {
  "kernelspec": {
   "display_name": "Python 3",
   "language": "python",
   "name": "python3"
  },
  "language_info": {
   "codemirror_mode": {
    "name": "ipython",
    "version": 3
   },
   "file_extension": ".py",
   "mimetype": "text/x-python",
   "name": "python",
   "nbconvert_exporter": "python",
   "pygments_lexer": "ipython3",
   "version": "3.12.1"
  }
 },
 "nbformat": 4,
 "nbformat_minor": 2
}
