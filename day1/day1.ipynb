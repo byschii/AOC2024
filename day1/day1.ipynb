{
 "cells": [
  {
   "cell_type": "markdown",
   "metadata": {},
   "source": [
    "The Chief Historian is always present for the big Christmas sleigh launch, but nobody has seen him in months! Last anyone heard, he was visiting locations that are historically significant to the North Pole; a group of Senior Historians has asked you to accompany them as they check the places they think he was most likely to visit.\n",
    "\n",
    "As each location is checked, they will mark it on their list with a star. They figure the Chief Historian must be in one of the first fifty places they'll look, so in order to save Christmas, you need to help them get fifty stars on their list before Santa takes off on December 25th.\n",
    "\n",
    "Collect stars by solving puzzles. Two puzzles will be made available on each day in the Advent calendar; the second puzzle is unlocked when you complete the first. Each puzzle grants one star. Good luck!\n",
    "\n",
    "You haven't even left yet and the group of Elvish Senior Historians has already hit a problem: their list of locations to check is currently empty. Eventually, someone decides that the best place to check first would be the Chief Historian's office.\n",
    "\n",
    "Upon pouring into the office, everyone confirms that the Chief Historian is indeed nowhere to be found. Instead, the Elves discover an assortment of notes and lists of historically significant locations! This seems to be the planning the Chief Historian was doing before he left. Perhaps these notes can be used to determine which locations to search?\n",
    "\n",
    "Throughout the Chief's office, the historically significant **locations are listed not by name but by a unique number called the location ID**. To make sure they don't miss anything, The Historians split into two groups, each searching the office and trying to create their own complete list of location IDs.\n",
    "\n",
    "There's just one problem: by holding the two lists up side by side (your puzzle input), it quickly becomes clear that the lists aren't very similar. Maybe you can help The Historians reconcile their lists?\n",
    "\n",
    "For example:\n",
    "\n",
    "3   4\n",
    "4   3\n",
    "2   5\n",
    "1   3\n",
    "3   9\n",
    "3   3\n",
    "Maybe the lists are only off by a small amount! To find out, pair up the numbers and measure how far apart they are. Pair up the smallest number in the left list with the smallest number in the right list, then the second-smallest left number with the second-smallest right number, and so on.\n",
    "\n",
    "Within each pair, figure out how far apart the two numbers are; you'll need to add up all of those distances. For example, if you pair up a 3 from the left list with a 7 from the right list, the distance apart is 4; if you pair up a 9 with a 3, the distance apart is 6.\n",
    "\n",
    "In the example list above, the pairs and distances would be as follows:\n",
    "\n",
    "The smallest number in the left list is 1, and the smallest number in the right list is 3. The distance between them is 2.\n",
    "The second-smallest number in the left list is 2, and the second-smallest number in the right list is another 3. The distance between them is 1.\n",
    "The third-smallest number in both lists is 3, so the distance between them is 0.\n",
    "The next numbers to pair up are 3 and 4, a distance of 1.\n",
    "The fifth-smallest numbers in each list are 3 and 5, a distance of 2.\n",
    "Finally, the largest number in the left list is 4, while the largest number in the right list is 9; these are a distance 5 apart.\n",
    "To find the total distance between the left list and the right list, add up the distances between all of the pairs you found. In the example above, this is 2 + 1 + 0 + 1 + 2 + 5, a total distance of 11!\n",
    "\n",
    "Your actual left and right lists contain many location IDs. What is the total distance between your lists?\n"
   ]
  },
  {
   "cell_type": "code",
   "execution_count": 25,
   "metadata": {},
   "outputs": [
    {
     "data": {
      "text/plain": [
       "[3, 4, 2, 1, 3, 3]"
      ]
     },
     "execution_count": 25,
     "metadata": {},
     "output_type": "execute_result"
    }
   ],
   "source": [
    "example = \"\"\"3   4\n",
    "4   3\n",
    "2   5\n",
    "1   3\n",
    "3   9\n",
    "3   3\"\"\"\n",
    "\n",
    "def readColumn(inputData, columnIndex, nSpaces = 2):\n",
    "    res = []\n",
    "    for line in inputData.split(\"\\n\"):\n",
    "        placeId = line.split(\" \"*nSpaces)[columnIndex]\n",
    "        res.append(int(placeId.strip()))\n",
    "\n",
    "    return res\n",
    "\n",
    "readColumn(example, 0)"
   ]
  },
  {
   "cell_type": "code",
   "execution_count": 26,
   "metadata": {},
   "outputs": [
    {
     "name": "stdout",
     "output_type": "stream",
     "text": [
      "[1, 2, 3, 3, 3, 4]\n",
      "[3, 3, 3, 4, 5, 9]\n",
      "11\n"
     ]
    }
   ],
   "source": [
    "firstHalf = sorted(readColumn(example,0))\n",
    "secondHalf = sorted(readColumn(example, 1))\n",
    "\n",
    "print(firstHalf)\n",
    "print(secondHalf)\n",
    "\n",
    "distance = 0\n",
    "for f, s in zip(firstHalf, secondHalf):\n",
    "    distance += abs(f-s)\n",
    "\n",
    "print(distance)"
   ]
  },
  {
   "cell_type": "code",
   "execution_count": 27,
   "metadata": {},
   "outputs": [
    {
     "name": "stdout",
     "output_type": "stream",
     "text": [
      "1970720\n"
     ]
    }
   ],
   "source": [
    "puzzleInput = \"\"\n",
    "with open(\"day1.txt\", \"r\") as f:\n",
    "    puzzleInput = f.read()\n",
    "\n",
    "firstHalf = sorted(readColumn(puzzleInput, 0, 3))\n",
    "secondHalf = sorted(readColumn(puzzleInput, 1, 3))\n",
    "\n",
    "\n",
    "distance = 0\n",
    "for f, s in zip(firstHalf, secondHalf):\n",
    "    distance += abs(f-s)\n",
    "\n",
    "print(distance)\n",
    "\n"
   ]
  },
  {
   "cell_type": "code",
   "execution_count": 34,
   "metadata": {},
   "outputs": [
    {
     "name": "stdout",
     "output_type": "stream",
     "text": [
      "[3, 4, 2, 1, 3, 3] [4, 3, 5, 3, 9, 3]\n",
      "sim=3 = secondHalf.count(f=3)\n",
      "sim=1 = secondHalf.count(f=4)\n",
      "sim=0 = secondHalf.count(f=2)\n",
      "sim=0 = secondHalf.count(f=1)\n",
      "31\n"
     ]
    }
   ],
   "source": [
    "firstHalf = readColumn(example, 0)\n",
    "secondHalf =readColumn(example, 1)\n",
    "\n",
    "print(firstHalf, secondHalf)\n",
    "\n",
    "similarity = 0\n",
    "timesNumberInFirstIsInSecond = {}\n",
    "for f in firstHalf:\n",
    "    if f in timesNumberInFirstIsInSecond:\n",
    "        similarity += (f * timesNumberInFirstIsInSecond[f])\n",
    "    else:\n",
    "        # calc similarity\n",
    "        sim = secondHalf.count(f)\n",
    "        print(f\"{sim=} = secondHalf.count({f=})\")\n",
    "        # add similarity\n",
    "        similarity += (sim * f)\n",
    "        # inc cache\n",
    "        timesNumberInFirstIsInSecond[f] = sim\n",
    "\n",
    "print(similarity)\n",
    "         \n",
    "\n",
    "\n",
    "\n",
    "\n"
   ]
  },
  {
   "cell_type": "code",
   "execution_count": 35,
   "metadata": {},
   "outputs": [
    {
     "name": "stdout",
     "output_type": "stream",
     "text": [
      "17191599\n"
     ]
    }
   ],
   "source": [
    "firstHalf = readColumn(puzzleInput, 0, 3)\n",
    "secondHalf =readColumn(puzzleInput, 1, 3)\n",
    "\n",
    "\n",
    "similarity = 0\n",
    "timesNumberInFirstIsInSecond = {}\n",
    "for f in firstHalf:\n",
    "    if f in timesNumberInFirstIsInSecond:\n",
    "        similarity += (f * timesNumberInFirstIsInSecond[f])\n",
    "    else:\n",
    "        # calc similarity\n",
    "        sim = secondHalf.count(f)\n",
    "        # add similarity\n",
    "        similarity += (sim * f)\n",
    "        # inc cache\n",
    "        timesNumberInFirstIsInSecond[f] = sim\n",
    "\n",
    "print(similarity)\n",
    "         \n"
   ]
  }
 ],
 "metadata": {
  "kernelspec": {
   "display_name": "Python 3",
   "language": "python",
   "name": "python3"
  },
  "language_info": {
   "codemirror_mode": {
    "name": "ipython",
    "version": 3
   },
   "file_extension": ".py",
   "mimetype": "text/x-python",
   "name": "python",
   "nbconvert_exporter": "python",
   "pygments_lexer": "ipython3",
   "version": "3.12.1"
  }
 },
 "nbformat": 4,
 "nbformat_minor": 2
}
