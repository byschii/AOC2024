{
 "cells": [
  {
   "cell_type": "code",
   "execution_count": 230,
   "metadata": {},
   "outputs": [],
   "source": [
    "def read_data(use_input = False):\n",
    "    data = \"\"\n",
    "    fname = \"day2.input\" if use_input else \"day2.example\"\n",
    "    with open(fname, \"r\") as f:\n",
    "        data = f.read()\n",
    "\n",
    "    # split into reports\n",
    "    reports = data.split(\"\\n\")\n",
    "    return reports\n",
    "\n",
    "def isSafe(line:str):\n",
    "    report = [\n",
    "        int(n) for n in line.split(\" \")\n",
    "    ]\n",
    "    sign = (report[0] - report[1]) > 0\n",
    "\n",
    "    for i in range(len(report)-1):\n",
    "        if (report[i] - report[i+1] > 0) != sign:\n",
    "            return False, i\n",
    "        if not(0< abs(report[i] - report[i+1]) <4):\n",
    "            return False, i\n",
    "        \n",
    "    return True, None\n",
    "            \n",
    "\n"
   ]
  },
  {
   "cell_type": "code",
   "execution_count": 231,
   "metadata": {},
   "outputs": [
    {
     "name": "stdout",
     "output_type": "stream",
     "text": [
      "safe_count=2\n"
     ]
    }
   ],
   "source": [
    "\n",
    "safe_count = 0\n",
    "for line in read_data() :\n",
    "    safety = isSafe(line)\n",
    "    if safety[0]: \n",
    "        safe_count += 1\n",
    "\n",
    "print(f\"{safe_count=}\")\n"
   ]
  },
  {
   "cell_type": "code",
   "execution_count": 234,
   "metadata": {},
   "outputs": [
    {
     "name": "stdout",
     "output_type": "stream",
     "text": [
      "\n",
      "safe_count=364\n"
     ]
    }
   ],
   "source": [
    "import copy\n",
    "\n",
    "def bruteForceLine(line):\n",
    "    line2 = [ int(n) for  n in line.split(\" \") ]\n",
    "    res = []\n",
    "    for i in range(len(line2)):\n",
    "        line_tmp = copy.copy(line2)\n",
    "        line_tmp.pop(i)\n",
    "        res.append(\n",
    "            \" \".join([ str(n) for n in line_tmp ]).strip()\n",
    "        )\n",
    "\n",
    "    return res\n",
    "\n",
    "def removeElem(line, indexElem):\n",
    "    if not( 0<=indexElem<len(line)):\n",
    "        return \"1 99\" # cause always UNSAFE\n",
    "    line_tmp = copy.copy(line)\n",
    "    line_tmp = [ int(n) for  n in line_tmp.split(\" \") ]\n",
    "    line_tmp.pop(indexElem)\n",
    "    return \" \".join([ str(n) for n in line_tmp ]).strip()\n",
    "\n",
    "safe_count = 0\n",
    "for line in read_data(True) :\n",
    "    safety = isSafe(line)\n",
    "    \n",
    "    if safety[0] :\n",
    "        safe_count += 1\n",
    "    else:\n",
    "        attempt1 = isSafe(removeElem(line, safety[1]-1))[0]\n",
    "        attempt2 = isSafe(removeElem(line, safety[1]))[0]\n",
    "        attempt3 = isSafe(removeElem(line, safety[1]+1))[0]\n",
    "        if any((attempt1, attempt2, attempt3)):\n",
    "            safe_count += 1\n",
    "\n",
    "\n",
    "\n",
    "print(f\"\\n{safe_count=}\")"
   ]
  },
  {
   "cell_type": "markdown",
   "metadata": {},
   "source": [
    "['1', '3', '2', '4', '5'] [2, -1, 2, 1] [-3, 3, -1]\n",
    "\n",
    "sia canvando il '3' che cavando il '2', rendo il report sicuro\n",
    "nell esempio \"suggeriscono\" di cavare il secondo\n",
    "probabilmente perché è un monte tra due valli (il report non è valido perche non è crescente)\n",
    "in questo caso il problema è che \n"
   ]
  },
  {
   "cell_type": "markdown",
   "metadata": {},
   "source": [
    "337 < right_answer < 388\n",
    " right_answer = 364"
   ]
  }
 ],
 "metadata": {
  "kernelspec": {
   "display_name": "Python 3",
   "language": "python",
   "name": "python3"
  },
  "language_info": {
   "codemirror_mode": {
    "name": "ipython",
    "version": 3
   },
   "file_extension": ".py",
   "mimetype": "text/x-python",
   "name": "python",
   "nbconvert_exporter": "python",
   "pygments_lexer": "ipython3",
   "version": "3.12.1"
  }
 },
 "nbformat": 4,
 "nbformat_minor": 2
}
